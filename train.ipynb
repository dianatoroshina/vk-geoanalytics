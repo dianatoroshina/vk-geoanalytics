{
 "cells": [
  {
   "cell_type": "code",
   "execution_count": 1,
   "id": "c8c34eb0",
   "metadata": {},
   "outputs": [],
   "source": [
    "import pandas as pd\n",
    "from xgboost import XGBRegressor\n",
    "from sklearn.metrics import mean_absolute_error\n",
    "from sklearn.model_selection import GridSearchCV, train_test_split\n",
    "from joblib import dump"
   ]
  },
  {
   "cell_type": "markdown",
   "id": "4c4478b3",
   "metadata": {},
   "source": [
    "Загрузим обработанные данные и поделим на тестовую и обучающую выборки."
   ]
  },
  {
   "cell_type": "code",
   "execution_count": 2,
   "id": "dae70a9a",
   "metadata": {},
   "outputs": [
    {
     "name": "stdout",
     "output_type": "stream",
     "text": [
      "        329      330       331       332      333      334       335  \\\n",
      "0  0.113296  0.13582  0.889617  0.002498  0.01252  0.00426  0.055041   \n",
      "1  0.113296  0.13582  0.889617  0.002498  0.01252  0.00426  0.055041   \n",
      "2  0.113296  0.13582  0.889617  0.002498  0.01252  0.00426  0.055041   \n",
      "3  0.113296  0.13582  0.889617  0.002498  0.01252  0.00426  0.055041   \n",
      "4  0.113296  0.13582  0.889617  0.002498  0.01252  0.00426  0.055041   \n",
      "\n",
      "        336       337       338  ...       353       354      355       356  \\\n",
      "0  0.118789  0.034067  0.086975  ...  0.006501  0.002727  0.04035  0.043507   \n",
      "1  0.118789  0.034067  0.086975  ...  0.006501  0.002727  0.04035  0.043507   \n",
      "2  0.118789  0.034067  0.086975  ...  0.006501  0.002727  0.04035  0.043507   \n",
      "3  0.118789  0.034067  0.086975  ...  0.006501  0.002727  0.04035  0.043507   \n",
      "4  0.118789  0.034067  0.086975  ...  0.006501  0.002727  0.04035  0.043507   \n",
      "\n",
      "        357       358  id       lat       lon     score  \n",
      "0  0.103746  0.091576   0  0.263586  0.000277  0.080523  \n",
      "1  0.103746  0.091576   1  0.421687  0.761893  0.104424  \n",
      "2  0.103746  0.091576   2 -2.655022 -0.161666  0.067615  \n",
      "3  0.103746  0.091576   3  1.208392 -1.122580  0.088038  \n",
      "4  0.103746  0.091576   4  1.205844 -1.129492  0.099686  \n",
      "\n",
      "[5 rows x 34 columns]\n"
     ]
    }
   ],
   "source": [
    "train_df = pd.read_csv('train_modified.csv')\n",
    "print(train_df.head())"
   ]
  },
  {
   "cell_type": "code",
   "execution_count": 3,
   "id": "100aed2b",
   "metadata": {},
   "outputs": [],
   "source": [
    "X = train_df.drop(labels=['score', 'id'], axis=1)\n",
    "y= train_df['score']\n",
    "\n",
    "X_train, X_test, y_train, y_test = train_test_split(X, y, test_size=0.2, random_state=42)"
   ]
  },
  {
   "cell_type": "markdown",
   "id": "8a15c4c7",
   "metadata": {},
   "source": [
    "Мой выбор был между моделями LightGBM и XGBoost в силу их быстроты и высокой производительности, а также устойчивости к переобучению. Обе модели показали неплохие результаты, однако XGBoost показала себя лучше. "
   ]
  },
  {
   "cell_type": "markdown",
   "id": "e49f1170",
   "metadata": {},
   "source": [
    "Настроим параметры с помощью поиска по сетке и обучим модель."
   ]
  },
  {
   "cell_type": "code",
   "execution_count": 4,
   "id": "b5db36d5",
   "metadata": {},
   "outputs": [
    {
     "name": "stdout",
     "output_type": "stream",
     "text": [
      "Fitting 5 folds for each of 60 candidates, totalling 300 fits\n",
      "Лучшие параметры: {'learning_rate': 0.05, 'max_depth': 18, 'subsample': 1}\n"
     ]
    }
   ],
   "source": [
    "xgb_model = XGBRegressor(random_state=42)\n",
    "\n",
    "xgb_params = {\n",
    "    'max_depth': range(10, 20, 2),\n",
    "    'learning_rate': [0.01, 0.05, 0.03],\n",
    "    'subsample': [0.7, 0.8, 0.9, 1], \n",
    "}\n",
    "\n",
    "grid_search = GridSearchCV(xgb_model, xgb_params,cv=5, n_jobs=4, \n",
    "                             verbose=True, scoring='neg_mean_absolute_error')\n",
    "\n",
    "grid_search.fit(X_train, y_train)\n",
    "print(\"Лучшие параметры:\", grid_search.best_params_)"
   ]
  },
  {
   "cell_type": "code",
   "execution_count": 5,
   "id": "d699bf09",
   "metadata": {},
   "outputs": [
    {
     "name": "stdout",
     "output_type": "stream",
     "text": [
      "Mean Absolute Error: 0.041404703596981125\n"
     ]
    }
   ],
   "source": [
    "model = XGBRegressor(learning_rate=0.05, max_depth=18, subsample=0.9, n_estimators=500, random_state=42)\n",
    "model.fit(X_train, y_train)\n",
    "\n",
    "y_pred = model.predict(X_test)\n",
    "mae = mean_absolute_error(y_test, y_pred)\n",
    "print(f'Mean Absolute Error: {mae}')"
   ]
  },
  {
   "cell_type": "markdown",
   "id": "0d1816b2",
   "metadata": {},
   "source": [
    "Сохраним модель для дальнейшего использования."
   ]
  },
  {
   "cell_type": "code",
   "execution_count": 6,
   "id": "9321c654",
   "metadata": {},
   "outputs": [
    {
     "data": {
      "text/plain": [
       "['model_geo.joblib']"
      ]
     },
     "execution_count": 6,
     "metadata": {},
     "output_type": "execute_result"
    }
   ],
   "source": [
    "dump(model, 'model_geo.joblib')"
   ]
  }
 ],
 "metadata": {
  "kernelspec": {
   "display_name": "Python 3 (ipykernel)",
   "language": "python",
   "name": "python3"
  },
  "language_info": {
   "codemirror_mode": {
    "name": "ipython",
    "version": 3
   },
   "file_extension": ".py",
   "mimetype": "text/x-python",
   "name": "python",
   "nbconvert_exporter": "python",
   "pygments_lexer": "ipython3",
   "version": "3.9.13"
  }
 },
 "nbformat": 4,
 "nbformat_minor": 5
}
